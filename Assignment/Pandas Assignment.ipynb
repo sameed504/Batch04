{
 "cells": [
  {
   "cell_type": "markdown",
   "metadata": {},
   "source": [
    "# Question No 1"
   ]
  },
  {
   "cell_type": "code",
   "execution_count": 41,
   "metadata": {},
   "outputs": [
    {
     "data": {
      "text/plain": [
       "<matplotlib.legend.Legend at 0x24113beee80>"
      ]
     },
     "execution_count": 41,
     "metadata": {},
     "output_type": "execute_result"
    },
    {
     "data": {
      "image/png": "[encoded data removed]",
      "text/plain": [
       "<Figure size 432x288 with 1 Axes>"
      ]
     },
     "metadata": {
      "needs_background": "light"
     },
     "output_type": "display_data"
    }
   ],
   "source": [
    "import pandas as pd\n",
    "import numpy as np\n",
    "import glob\n",
    "import matplotlib.pyplot as plt\n",
    "\n",
    "path = r'C:\\Users\\Admin\\Downloads\\Assignment'\n",
    "all_files = glob.glob(path + \"/*.csv\")\n",
    "\n",
    "li = []\n",
    "\n",
    "for filename in all_files:\n",
    "    df = pd.read_csv(filename)\n",
    "    li.append(df)\n",
    "\n",
    "frame = pd.concat(li, axis=0 ,ignore_index=True)\n",
    "frame.drop(frame.iloc[:1,:1].columns,axis=1,inplace=True)\n",
    "frame.fillna(method='ffill',inplace=True)\n",
    "frame = frame.replace('%','',regex=True)\n",
    "frame['Income'] = frame['Income'].str.replace('$','',regex=True)\n",
    "frame.iloc[:,2:-1] = frame.iloc[:,2:-1].astype(float).round(0).astype(int)\n",
    "frame.drop_duplicates(inplace=True,ignore_index=True)\n",
    "frame[['Male','Female']] = frame.GenderPop.str.split('_',expand=True,)\n",
    "frame = frame.rename(columns={0:'Male',1:'Female'})\n",
    "frame = frame.drop(['GenderPop'],axis=1)\n",
    "frame[['Male','Female']] = frame[['Male','Female']].replace(['M','F'],['',''],regex=True)\n",
    "frame = frame.replace('',0)\n",
    "plt.scatter(frame.Female.astype(str), frame.Income, s=40, c='b', label='Female')\n",
    "plt.scatter(frame.Male, frame.Income, s=40, c='r', label='Male') \n",
    "plt.legend()\n",
    "# frame"
   ]
  },
  {
   "cell_type": "markdown",
   "metadata": {},
   "source": [
    "# Question No. 2"
   ]
  },
  {
   "cell_type": "code",
   "execution_count": 39,
   "metadata": {},
   "outputs": [
    {
     "data": {
      "text/html": [
       "<div>\n",
       "<style scoped>\n",
       "    .dataframe tbody tr th:only-of-type {\n",
       "        vertical-align: middle;\n",
       "    }\n",
       "\n",
       "    .dataframe tbody tr th {\n",
       "        vertical-align: top;\n",
       "    }\n",
       "\n",
       "    .dataframe thead th {\n",
       "        text-align: right;\n",
       "    }\n",
       "</style>\n",
       "<table border=\"1\" class=\"dataframe\">\n",
       "  <thead>\n",
       "    <tr style=\"text-align: right;\">\n",
       "      <th></th>\n",
       "      <th>location</th>\n",
       "      <th>product_type</th>\n",
       "      <th>product_description</th>\n",
       "      <th>quantity</th>\n",
       "      <th>price</th>\n",
       "      <th>in_stock</th>\n",
       "      <th>total_value</th>\n",
       "      <th>full_description</th>\n",
       "    </tr>\n",
       "  </thead>\n",
       "  <tbody>\n",
       "    <tr>\n",
       "      <th>10</th>\n",
       "      <td>Brooklyn</td>\n",
       "      <td>seeds</td>\n",
       "      <td>daisy</td>\n",
       "      <td>50.0</td>\n",
       "      <td>6.99</td>\n",
       "      <td>True</td>\n",
       "      <td>349.5</td>\n",
       "      <td>seeds daisy</td>\n",
       "    </tr>\n",
       "    <tr>\n",
       "      <th>11</th>\n",
       "      <td>Brooklyn</td>\n",
       "      <td>seeds</td>\n",
       "      <td>calla lily</td>\n",
       "      <td>0.0</td>\n",
       "      <td>19.99</td>\n",
       "      <td>False</td>\n",
       "      <td>0.0</td>\n",
       "      <td>seeds calla lily</td>\n",
       "    </tr>\n",
       "    <tr>\n",
       "      <th>12</th>\n",
       "      <td>Brooklyn</td>\n",
       "      <td>seeds</td>\n",
       "      <td>tomato</td>\n",
       "      <td>0.0</td>\n",
       "      <td>13.99</td>\n",
       "      <td>False</td>\n",
       "      <td>0.0</td>\n",
       "      <td>seeds tomato</td>\n",
       "    </tr>\n",
       "  </tbody>\n",
       "</table>\n",
       "</div>"
      ],
      "text/plain": [
       "    location product_type product_description  quantity  price  in_stock  \\\n",
       "10  Brooklyn        seeds               daisy      50.0   6.99      True   \n",
       "11  Brooklyn        seeds          calla lily       0.0  19.99     False   \n",
       "12  Brooklyn        seeds              tomato       0.0  13.99     False   \n",
       "\n",
       "    total_value  full_description  \n",
       "10        349.5       seeds daisy  \n",
       "11          0.0  seeds calla lily  \n",
       "12          0.0      seeds tomato  "
      ]
     },
     "execution_count": 39,
     "metadata": {},
     "output_type": "execute_result"
    }
   ],
   "source": [
    "import pandas as pd\n",
    "import numpy as np\n",
    "import glob\n",
    "import matplotlib.pyplot as plt\n",
    "\n",
    "df = pd.read_csv('inventory/inventory.csv')\n",
    "staten_island = df.head(10)\n",
    "product_request = staten_island['product_description']\n",
    "seed_request = df.where(df.location == 'Brooklyn')\n",
    "seed_request = seed_request.where(df.product_type == 'seeds')\n",
    "seed_request = seed_request.dropna()\n",
    "seed_request['in_stock'] = seed_request['quantity'].astype(int) > 0\n",
    "seed_request['total_value'] = seed_request.quantity * seed_request.price\n",
    "seed_request['full_description'] = seed_request['product_type'] + ' ' + seed_request['product_description']\n",
    "seed_request"
   ]
  }
 ],
 "metadata": {
  "kernelspec": {
   "display_name": "Python 3",
   "language": "python",
   "name": "python3"
  }
 },
 "nbformat": 4,
 "nbformat_minor": 4
}
